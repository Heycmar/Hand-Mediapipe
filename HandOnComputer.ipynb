{
 "cells": [
  {
   "cell_type": "code",
   "execution_count": 2,
   "id": "8eba86e2",
   "metadata": {},
   "outputs": [
    {
     "name": "stdout",
     "output_type": "stream",
     "text": [
      "Requirement already satisfied: pyforest in c:\\users\\electronica\\anaconda3\\lib\\site-packages (1.1.0)\n"
     ]
    }
   ],
   "source": [
    "!pip install pyforest"
   ]
  },
  {
   "cell_type": "code",
   "execution_count": 12,
   "id": "137a4565",
   "metadata": {},
   "outputs": [
    {
     "name": "stdout",
     "output_type": "stream",
     "text": [
      "Requirement already satisfied: cv in c:\\users\\electronica\\anaconda3\\lib\\site-packages (1.0.0)\n",
      "Requirement already satisfied: mediapipe in c:\\users\\electronica\\anaconda3\\lib\\site-packages (0.9.0.1)\n",
      "Requirement already satisfied: matplotlib in c:\\users\\electronica\\anaconda3\\lib\\site-packages (from mediapipe) (3.5.1)\n",
      "Requirement already satisfied: attrs>=19.1.0 in c:\\users\\electronica\\anaconda3\\lib\\site-packages (from mediapipe) (21.4.0)\n",
      "Requirement already satisfied: flatbuffers>=2.0 in c:\\users\\electronica\\anaconda3\\lib\\site-packages (from mediapipe) (22.12.6)\n",
      "Requirement already satisfied: opencv-contrib-python in c:\\users\\electronica\\anaconda3\\lib\\site-packages (from mediapipe) (4.7.0.68)\n",
      "Requirement already satisfied: numpy in c:\\users\\electronica\\anaconda3\\lib\\site-packages (from mediapipe) (1.21.5)\n",
      "Requirement already satisfied: absl-py in c:\\users\\electronica\\anaconda3\\lib\\site-packages (from mediapipe) (1.3.0)\n",
      "Requirement already satisfied: protobuf<4,>=3.11 in c:\\users\\electronica\\anaconda3\\lib\\site-packages (from mediapipe) (3.19.1)\n",
      "Requirement already satisfied: packaging>=20.0 in c:\\users\\electronica\\anaconda3\\lib\\site-packages (from matplotlib->mediapipe) (21.3)\n",
      "Requirement already satisfied: kiwisolver>=1.0.1 in c:\\users\\electronica\\anaconda3\\lib\\site-packages (from matplotlib->mediapipe) (1.3.2)\n",
      "Requirement already satisfied: fonttools>=4.22.0 in c:\\users\\electronica\\anaconda3\\lib\\site-packages (from matplotlib->mediapipe) (4.25.0)\n",
      "Requirement already satisfied: pillow>=6.2.0 in c:\\users\\electronica\\anaconda3\\lib\\site-packages (from matplotlib->mediapipe) (9.0.1)\n",
      "Requirement already satisfied: python-dateutil>=2.7 in c:\\users\\electronica\\anaconda3\\lib\\site-packages (from matplotlib->mediapipe) (2.8.2)\n",
      "Requirement already satisfied: cycler>=0.10 in c:\\users\\electronica\\anaconda3\\lib\\site-packages (from matplotlib->mediapipe) (0.11.0)\n",
      "Requirement already satisfied: pyparsing>=2.2.1 in c:\\users\\electronica\\anaconda3\\lib\\site-packages (from matplotlib->mediapipe) (3.0.4)\n",
      "Requirement already satisfied: six>=1.5 in c:\\users\\electronica\\anaconda3\\lib\\site-packages (from python-dateutil>=2.7->matplotlib->mediapipe) (1.16.0)\n"
     ]
    }
   ],
   "source": [
    "!pip install mediapipe"
   ]
  },
  {
   "cell_type": "code",
   "execution_count": 1,
   "id": "2cae448f",
   "metadata": {},
   "outputs": [],
   "source": [
    "import cv2\n",
    "import mediapipe as mp\n",
    "import time"
   ]
  },
  {
   "cell_type": "code",
   "execution_count": 7,
   "id": "925c3e0e",
   "metadata": {},
   "outputs": [],
   "source": [
    "cap=cv2.VideoCapture(0)\n",
    "# hand object\n",
    "mp_hands = mp.solutions.hands\n",
    "\n",
    "# .Hands has four default parameters\n",
    "# 1. static_image_mode ,  it tracks and detects, False means sometime it detexts and sometimes it tracks\n",
    "# 2. max_num_hands\n",
    "# 3. min_detextion_confidence\n",
    "# 4. mintracking_confidence\n",
    "\n",
    "hands = mp_hands.Hands()\n",
    "#method for drawing points\n",
    "mp_draw = mp.solutions.drawing_utils\n",
    "\n",
    "#fr\n",
    "p_time = 0\n",
    "c_time = 0\n",
    "\n",
    "\n",
    "while True:\n",
    "    success, image = cap.read()\n",
    "    # sending RGB image\n",
    "    img_RGB = cv2.cvtColor(image,cv2.COLOR_BGR2RGB)\n",
    "    #getting the image\n",
    "    results =  hands.process(img_RGB)\n",
    "    #checkin results object\n",
    "    #print(results.multi_hand_landmarks)\n",
    "    \n",
    "    # if landmarks ar detected than this LOCs work\n",
    "    if results.multi_hand_landmarks:\n",
    "        for hand_landmarks in results.multi_hand_landmarks:\n",
    "            # getting landmark values\n",
    "            for id, lm in enumerate(hand_landmarks.landmark):\n",
    "                #print(id,lm)\n",
    "                h, w, c = image.shape\n",
    "                cx, cy = int(lm.x*w),int(lm.y*h)\n",
    "                #print(id,cx,cy)\n",
    "                \n",
    "                #drawing circle\n",
    "                if id==0:\n",
    "                    cv2.circle(image,(cx,cy),15,(255,255,0),cv2.FILLED)\n",
    "            \n",
    "            \n",
    "            mp_draw.draw_landmarks(image,hand_landmarks,mp_hands.HAND_CONNECTIONS)\n",
    "    \n",
    "    c_time = time.time()\n",
    "    fps = 1/(c_time-p_time)\n",
    "    p_time = c_time\n",
    "    #display fps\n",
    "    cv2.putText(image,str(int(fps)),(10,70),cv2.FONT_HERSHEY_COMPLEX,3,(255,0,255),3)\n",
    "    \n",
    "    cv2.imshow(\"Hand Tracking\", image)\n",
    "    if cv2.waitKey(10) & 0xFF == ord('q'):\n",
    "        break\n",
    "cap.release()\n",
    "cv2.destroyAllWindows()"
   ]
  },
  {
   "cell_type": "code",
   "execution_count": null,
   "id": "91b170e7",
   "metadata": {},
   "outputs": [],
   "source": []
  },
  {
   "cell_type": "code",
   "execution_count": null,
   "id": "990f31a5",
   "metadata": {},
   "outputs": [],
   "source": []
  }
 ],
 "metadata": {
  "kernelspec": {
   "display_name": "Python 3 (ipykernel)",
   "language": "python",
   "name": "python3"
  },
  "language_info": {
   "codemirror_mode": {
    "name": "ipython",
    "version": 3
   },
   "file_extension": ".py",
   "mimetype": "text/x-python",
   "name": "python",
   "nbconvert_exporter": "python",
   "pygments_lexer": "ipython3",
   "version": "3.9.12"
  }
 },
 "nbformat": 4,
 "nbformat_minor": 5
}
